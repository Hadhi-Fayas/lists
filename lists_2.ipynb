{
  "nbformat": 4,
  "nbformat_minor": 0,
  "metadata": {
    "colab": {
      "provenance": [],
      "authorship_tag": "ABX9TyPr1kCcALAt+nixyxSzMW9B",
      "include_colab_link": true
    },
    "kernelspec": {
      "name": "python3",
      "display_name": "Python 3"
    },
    "language_info": {
      "name": "python"
    }
  },
  "cells": [
    {
      "cell_type": "markdown",
      "metadata": {
        "id": "view-in-github",
        "colab_type": "text"
      },
      "source": [
        "<a href=\"https://colab.research.google.com/github/Hadhi-Fayas/lists/blob/main/lists_2.ipynb\" target=\"_parent\"><img src=\"https://colab.research.google.com/assets/colab-badge.svg\" alt=\"Open In Colab\"/></a>"
      ]
    },
    {
      "cell_type": "code",
      "execution_count": null,
      "metadata": {
        "colab": {
          "base_uri": "https://localhost:8080/"
        },
        "id": "_lqLpvIYEkMq",
        "outputId": "6a9cd05d-8f44-42fe-9991-7c0fd5f4ba5e"
      },
      "outputs": [
        {
          "output_type": "stream",
          "name": "stdout",
          "text": [
            "['hadhi fayas', 10, '06/06/2004', 'KATTOOR']\n"
          ]
        }
      ],
      "source": [
        "x=[\"hadhi fayas\", 10,\"06/06/2004\",\"KATTOOR\"]\n",
        "print(x)"
      ]
    },
    {
      "cell_type": "code",
      "source": [
        "\n"
      ],
      "metadata": {
        "colab": {
          "base_uri": "https://localhost:8080/"
        },
        "id": "SAVKpWyIG2Y_",
        "outputId": "609d44b3-c682-4575-dc8d-3477fff09e27"
      },
      "execution_count": null,
      "outputs": [
        {
          "output_type": "stream",
          "name": "stdout",
          "text": [
            "['hadhi fayas', 10, '06/06/2004', 'KATTOOR']\n"
          ]
        }
      ]
    },
    {
      "cell_type": "code",
      "source": [
        "x[0]"
      ],
      "metadata": {
        "id": "1LK7GSH5H7po",
        "colab": {
          "base_uri": "https://localhost:8080/",
          "height": 36
        },
        "outputId": "7095d9ae-ff56-4da0-f23e-3d9763915a48"
      },
      "execution_count": null,
      "outputs": [
        {
          "output_type": "execute_result",
          "data": {
            "text/plain": [
              "'hadhi fayas'"
            ],
            "application/vnd.google.colaboratory.intrinsic+json": {
              "type": "string"
            }
          },
          "metadata": {},
          "execution_count": 3
        }
      ]
    },
    {
      "cell_type": "code",
      "source": [
        "x.append(\"THRISSUR\")\n",
        "print(x)"
      ],
      "metadata": {
        "colab": {
          "base_uri": "https://localhost:8080/"
        },
        "id": "R78X2mY7JY_A",
        "outputId": "0244e4be-26a0-4786-a591-5bb33116ea22"
      },
      "execution_count": null,
      "outputs": [
        {
          "output_type": "stream",
          "name": "stdout",
          "text": [
            "['hadhi fayas', 10, '06/06/2004', 'KATTOOR', 'THRISSUR']\n"
          ]
        }
      ]
    },
    {
      "cell_type": "code",
      "source": [
        "x.insert(1,\"KERALA\")\n",
        "print(x)"
      ],
      "metadata": {
        "colab": {
          "base_uri": "https://localhost:8080/"
        },
        "id": "q_31RyMlJk0I",
        "outputId": "c381d0db-c56a-45a4-e9a7-904201135b38"
      },
      "execution_count": null,
      "outputs": [
        {
          "output_type": "stream",
          "name": "stdout",
          "text": [
            "['hadhi fayas', 'KERALA', 'KERALA', 10, '06/06/2004', 'KATTOOR', 'THRISSUR']\n"
          ]
        }
      ]
    },
    {
      "cell_type": "code",
      "source": [
        "marks=int(input(\"enter your mark\"))\n",
        "if marks >= 50:\n",
        "  print(\"PASS\")\n",
        "else:\n",
        "  print(\"FAIL\")\n"
      ],
      "metadata": {
        "colab": {
          "base_uri": "https://localhost:8080/"
        },
        "id": "9_Zjvjc2K3BR",
        "outputId": "962ff2bc-1859-4822-d923-38157b07991f"
      },
      "execution_count": null,
      "outputs": [
        {
          "output_type": "stream",
          "name": "stdout",
          "text": [
            "enter your mark55\n",
            "PASS\n"
          ]
        }
      ]
    },
    {
      "cell_type": "code",
      "source": [
        "x=[\"madhav\",\"donlad\",\"syam\",\"siva\",\"aadhil\"]\n",
        "print(x)"
      ],
      "metadata": {
        "colab": {
          "base_uri": "https://localhost:8080/"
        },
        "id": "k6urHvC-KFyn",
        "outputId": "16a67267-94af-46a4-cc2e-628e8fa8b0f4"
      },
      "execution_count": null,
      "outputs": [
        {
          "output_type": "stream",
          "name": "stdout",
          "text": [
            "['madhav', 'donlad', 'syam', 'siva', 'aadhil']\n"
          ]
        }
      ]
    },
    {
      "cell_type": "code",
      "source": [
        "x.append(input(\"please enter a name\"))\n",
        "print(x)"
      ],
      "metadata": {
        "colab": {
          "base_uri": "https://localhost:8080/"
        },
        "id": "Csm1b5ZVQvuK",
        "outputId": "a6fb9125-aa9a-4a1f-a7fc-c6784a655018"
      },
      "execution_count": null,
      "outputs": [
        {
          "output_type": "stream",
          "name": "stdout",
          "text": [
            "please enter a namesivanadan\n",
            "['madhav', 'donlad', 'syam', 'siva', 'aadhil', 'sivanadan']\n"
          ]
        }
      ]
    },
    {
      "cell_type": "code",
      "source": [
        "x.insert(int(input(\"please enter a number\")),(input(\"please enter a name\")))\n",
        "print(x)\n"
      ],
      "metadata": {
        "id": "hbCEtgD9RyFB",
        "colab": {
          "base_uri": "https://localhost:8080/"
        },
        "outputId": "5f38d5cd-ace5-49a5-c0de-d8072f29ceb9"
      },
      "execution_count": 17,
      "outputs": [
        {
          "output_type": "stream",
          "name": "stdout",
          "text": [
            "please enter a number3\n",
            "please enter a name yadhu\n",
            "['madhav', 'donlad', 'syam', ' yadhu', 'yadhu', 'siva', 'aadhil', 'sivanadan']\n"
          ]
        }
      ]
    },
    {
      "cell_type": "code",
      "source": [],
      "metadata": {
        "id": "4EysQm8edioD"
      },
      "execution_count": 14,
      "outputs": []
    }
  ]
}